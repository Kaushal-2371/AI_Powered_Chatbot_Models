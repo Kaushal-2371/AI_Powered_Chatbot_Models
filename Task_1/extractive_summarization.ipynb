{
 "cells": [
  {
   "cell_type": "code",
   "execution_count": 1,
   "id": "b649312a-01b8-4ac3-bb7d-64257a772c90",
   "metadata": {},
   "outputs": [],
   "source": [
    "import nltk\n",
    "from nltk.corpus import stopwords\n",
    "from nltk.tokenize import sent_tokenize, word_tokenize\n",
    "from sklearn.feature_extraction.text import TfidfVectorizer\n",
    "import numpy as np"
   ]
  },
  {
   "cell_type": "code",
   "execution_count": 2,
   "id": "1797b901-aec8-4d22-85ca-f939d25e7425",
   "metadata": {},
   "outputs": [
    {
     "name": "stderr",
     "output_type": "stream",
     "text": [
      "[nltk_data] Downloading package punkt to\n",
      "[nltk_data]     C:\\Users\\KALAS\\AppData\\Roaming\\nltk_data...\n",
      "[nltk_data]   Package punkt is already up-to-date!\n",
      "[nltk_data] Downloading package stopwords to\n",
      "[nltk_data]     C:\\Users\\KALAS\\AppData\\Roaming\\nltk_data...\n",
      "[nltk_data]   Unzipping corpora\\stopwords.zip.\n"
     ]
    },
    {
     "data": {
      "text/plain": [
       "True"
      ]
     },
     "execution_count": 2,
     "metadata": {},
     "output_type": "execute_result"
    }
   ],
   "source": [
    "nltk.download('punkt')\n",
    "nltk.download('stopwords')"
   ]
  },
  {
   "cell_type": "code",
   "execution_count": null,
   "id": "6880cf67-5744-4b11-9d64-322902061dfb",
   "metadata": {},
   "outputs": [
    {
     "name": "stdout",
     "output_type": "stream",
     "text": [
      "Summary:\n",
      " Born in the Dvapara Yuga to Devaki and Vasudeva in the prison of Mathura, Krishna's birth itself is seen as a divine intervention meant to rid the world of evil. As a child in Gokul and Vrindavan, he performed many miracles and was known for his mischief, especially his love for butter and his playful teasing of the gopis (milkmaids).\n"
     ]
    }
   ],
   "source": [
    "# Extractive Summarization Function\n",
    "def extractive_summarization(text, summary_length=3):\n",
    "    # Tokenizing sentences\n",
    "    sentences = sent_tokenize(text)\n",
    "    \n",
    "    # Remove: stopwords and punctuation\n",
    "    stop_words = set(stopwords.words('english'))\n",
    "    processed_sentences = [\n",
    "        ' '.join([word for word in word_tokenize(sentence.lower()) if word.isalnum() and word not in stop_words])\n",
    "        for sentence in sentences\n",
    "    ]\n",
    "    \n",
    "    # Now Computing TF-IDF scores\n",
    "    vectorizer = TfidfVectorizer()\n",
    "    tfidf_matrix = vectorizer.fit_transform(processed_sentences)\n",
    "    \n",
    "    # Calculate sentence scores\n",
    "    sentence_scores = np.sum(tfidf_matrix.toarray(), axis=1)\n",
    "    \n",
    "    # Now ranking sentences by score\n",
    "    ranked_sentences = [sentence for _, sentence in sorted(zip(sentence_scores, sentences), reverse=True)]\n",
    "    \n",
    "    # Select top N sentences for the summary\n",
    "    summary = ' '.join(ranked_sentences[:summary_length])\n",
    "    return summary\n",
    "\n",
    "# INPUT\n",
    "text = \"\"\"\n",
    "Lord Krishna, one of the most revered and beloved deities in Hinduism, is considered the eighth incarnation of Lord Vishnu. He is a central character in the epic Mahabharata and the speaker of the sacred Bhagavad Gita. Born in the Dvapara Yuga to Devaki and Vasudeva in the prison of Mathura, Krishna's birth itself is seen as a divine intervention meant to rid the world of evil. His life, filled with divine acts and spiritual teachings, has had a deep influence on Indian culture, philosophy, and religious thought.\n",
    "From a very young age, Krishna displayed extraordinary abilities. As a child in Gokul and Vrindavan, he performed many miracles and was known for his mischief, especially his love for butter and his playful teasing of the gopis (milkmaids). Among them, Radha holds a special place as his eternal companion, and their bond is often viewed as the epitome of pure, selfless love. These early stories are celebrated in many devotional songs and dances, especially in the traditions of Bhakti Yoga. His flute-playing, dancing with the gopis, and playful deeds are symbolic of divine love and the joy of spiritual connection.\n",
    "As Krishna grew older, he emerged as a wise statesman and protector of dharma (righteousness). He killed many demons sent by Kamsa, his evil uncle, and eventually defeated him to restore peace in Mathura. Krishna’s role in the Mahabharata is particularly significant. He did not fight in the war himself, but acted as a charioteer and guide to Arjuna, one of the Pandava brothers. His counsel to Arjuna on the battlefield of Kurukshetra is the essence of the Bhagavad Gita, one of the most important spiritual texts in Hinduism. In it, Krishna speaks about the importance of duty, the nature of life and death, detachment from results, and devotion to God.\n",
    "Krishna’s teachings emphasize inner peace, self-realization, and devotion. He promotes the path of righteousness and encourages people to live a life of integrity and spiritual awareness. His philosophy combines action with devotion and is relevant even today, offering guidance on how to face life’s challenges with strength and clarity. Krishna is not just worshipped as a god but loved as a friend, guide, lover, and protector.\n",
    "Beyond scriptures, Krishna’s legacy is deeply embedded in Indian art, music, literature, and festivals. Janmashtami, the day of his birth, is celebrated with great devotion across India with fasting, singing, and reenactments of his childhood pastimes. Krishna's persona transcends religious boundaries and is seen as a symbol of divine wisdom, love, and joy.\n",
    "In conclusion, Lord Krishna's life is a perfect blend of divine playfulness, profound wisdom, and heroic action. He taught humanity how to live righteously, love selflessly, and face difficulties with courage. His teachings remain timeless, inspiring millions across generations to lead a life of virtue, devotion, and spiritual fulfillment.\n",
    "\"\"\"\n",
    "\n",
    "# OUTPUT\n",
    "summary = extractive_summarization(text, summary_length=2)\n",
    "print(\"Summary:\\n\", summary)"
   ]
  },
  {
   "cell_type": "markdown",
   "id": "b5c26f36-4c45-4e15-8d40-479cedb03e8e",
   "metadata": {},
   "source": [
    "Paragraph:-\n",
    "Lord Krishna, one of the most revered and beloved deities in Hinduism, is considered the eighth incarnation of Lord Vishnu. He is a central character in the epic Mahabharata and the speaker of the sacred Bhagavad Gita. Born in the Dvapara Yuga to Devaki and Vasudeva in the prison of Mathura, Krishna's birth itself is seen as a divine intervention meant to rid the world of evil. His life, filled with divine acts and spiritual teachings, has had a deep influence on Indian culture, philosophy, and religious thought.\n",
    "\n",
    "From a very young age, Krishna displayed extraordinary abilities. As a child in Gokul and Vrindavan, he performed many miracles and was known for his mischief, especially his love for butter and his playful teasing of the gopis (milkmaids). Among them, Radha holds a special place as his eternal companion, and their bond is often viewed as the epitome of pure, selfless love. These early stories are celebrated in many devotional songs and dances, especially in the traditions of Bhakti Yoga. His flute-playing, dancing with the gopis, and playful deeds are symbolic of divine love and the joy of spiritual connection.\n",
    "\n",
    "As Krishna grew older, he emerged as a wise statesman and protector of dharma (righteousness). He killed many demons sent by Kamsa, his evil uncle, and eventually defeated him to restore peace in Mathura. Krishna’s role in the Mahabharata is particularly significant. He did not fight in the war himself, but acted as a charioteer and guide to Arjuna, one of the Pandava brothers. His counsel to Arjuna on the battlefield of Kurukshetra is the essence of the Bhagavad Gita, one of the most important spiritual texts in Hinduism. In it, Krishna speaks about the importance of duty, the nature of life and death, detachment from results, and devotion to God.\n",
    "\n",
    "Krishna’s teachings emphasize inner peace, self-realization, and devotion. He promotes the path of righteousness and encourages people to live a life of integrity and spiritual awareness. His philosophy combines action with devotion and is relevant even today, offering guidance on how to face life’s challenges with strength and clarity. Krishna is not just worshipped as a god but loved as a friend, guide, lover, and protector.\n",
    "\n",
    "Beyond scriptures, Krishna’s legacy is deeply embedded in Indian art, music, literature, and festivals. Janmashtami, the day of his birth, is celebrated with great devotion across India with fasting, singing, and reenactments of his childhood pastimes. Krishna's persona transcends religious boundaries and is seen as a symbol of divine wisdom, love, and joy.\n",
    "\n",
    "In conclusion, Lord Krishna's life is a perfect blend of divine playfulness, profound wisdom, and heroic action. He taught humanity how to live righteously, love selflessly, and face difficulties with courage. His teachings remain timeless, inspiring millions across generations to lead a life of virtue, devotion, and spiritual fulfillment."
   ]
  }
 ],
 "metadata": {
  "kernelspec": {
   "display_name": "Python 3 (ipykernel)",
   "language": "python",
   "name": "python3"
  },
  "language_info": {
   "codemirror_mode": {
    "name": "ipython",
    "version": 3
   },
   "file_extension": ".py",
   "mimetype": "text/x-python",
   "name": "python",
   "nbconvert_exporter": "python",
   "pygments_lexer": "ipython3",
   "version": "3.11.4"
  }
 },
 "nbformat": 4,
 "nbformat_minor": 5
}
