{
 "cells": [
  {
   "cell_type": "code",
   "execution_count": null,
   "id": "b649312a-01b8-4ac3-bb7d-64257a772c90",
   "metadata": {},
   "outputs": [],
   "source": [
    "import nltk\n",
    "from nltk.corpus import stopwords\n",
    "from nltk.tokenize import sent_tokenize, word_tokenize\n",
    "from sklearn.feature_extraction.text import TfidfVectorizer\n",
    "import numpy as np"
   ]
  },
  {
   "cell_type": "code",
   "execution_count": null,
   "id": "1797b901-aec8-4d22-85ca-f939d25e7425",
   "metadata": {},
   "outputs": [],
   "source": [
    "nltk.download('punkt')\n",
    "nltk.download('stopwords')"
   ]
  },
  {
   "cell_type": "code",
   "execution_count": null,
   "id": "6880cf67-5744-4b11-9d64-322902061dfb",
   "metadata": {},
   "outputs": [],
   "source": [
    "# Extractive Summarization Function\n",
    "def extractive_summarization(text, summary_length=3):\n",
    "    # Tokenizing sentences\n",
    "    sentences = sent_tokenize(text)\n",
    "    \n",
    "    # Remove: stopwords and punctuation\n",
    "    stop_words = set(stopwords.words('english'))\n",
    "    processed_sentences = [\n",
    "        ' '.join([word for word in word_tokenize(sentence.lower()) if word.isalnum() and word not in stop_words])\n",
    "        for sentence in sentences\n",
    "    ]\n",
    "    \n",
    "    # Now Computing TF-IDF scores\n",
    "    vectorizer = TfidfVectorizer()\n",
    "    tfidf_matrix = vectorizer.fit_transform(processed_sentences)\n",
    "    \n",
    "    # Calculate sentence scores\n",
    "    sentence_scores = np.sum(tfidf_matrix.toarray(), axis=1)\n",
    "    \n",
    "    # Now ranking sentences by score\n",
    "    ranked_sentences = [sentence for _, sentence in sorted(zip(sentence_scores, sentences), reverse=True)]\n",
    "    \n",
    "    # Select top N sentences for the summary\n",
    "    summary = ' '.join(ranked_sentences[:summary_length])\n",
    "    return summary\n",
    "\n",
    "# INPUT\n",
    "text = \"\"\"\n",
    "The rapid growth of online shopping has significantly impacted traditional brick-and-mortar retail, with many consumers now preferring the convenience of purchasing goods from the comfort of their homes. This shift has led to a surge in e-commerce platforms, offering a vast array of products with competitive prices and fast delivery options, putting pressure on physical stores to adapt and integrate digital strategies to remain relevant in the modern marketplace. As a result, businesses are increasingly focusing on omnichannel experiences, allowing customers to seamlessly transition between online and offline shopping, including features like in-store pickup and product availability checks, to cater to evolving consumer behavior.\n",
    "\"\"\"\n",
    "\n",
    "summary = extractive_summarization(text, summary_length=2)\n",
    "print(\"Summary:\\n\", summary)"
   ]
  }
 ],
 "metadata": {
  "kernelspec": {
   "display_name": "Python 3 (ipykernel)",
   "language": "python",
   "name": "python3"
  },
  "language_info": {
   "codemirror_mode": {
    "name": "ipython",
    "version": 3
   },
   "file_extension": ".py",
   "mimetype": "text/x-python",
   "name": "python",
   "nbconvert_exporter": "python",
   "pygments_lexer": "ipython3",
   "version": "3.11.4"
  }
 },
 "nbformat": 4,
 "nbformat_minor": 5
}
